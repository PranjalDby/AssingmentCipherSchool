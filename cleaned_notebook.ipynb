{
 "cells": [
  {
   "cell_type": "markdown",
   "id": "7c6d75ba",
   "metadata": {},
   "source": []
  },
  {
   "cell_type": "code",
   "execution_count": 47,
   "id": "00996ae5",
   "metadata": {},
   "outputs": [],
   "source": [
    "import pandas as pd\n",
    "import numpy as np\n",
    "from datetime import datetime"
   ]
  },
  {
   "cell_type": "markdown",
   "id": "766bc2d1",
   "metadata": {},
   "source": [
    "### TODO\n",
    "Weekly assignment for practice : \n",
    "🎯 Objective:\n",
    "Perform data cleaning and analysis on employee performance data using Python (pandas) and save the output in an Excel file with multiple sheets.\n",
    "\n",
    "Data set : https://docs.google.com/spreadsheets/d/1wrH9VMn3BB1t8Y5F7bmtC0z0-8QCRFRf/edit?usp=drive_link&ouid=106177324977353126171&rtpof=true&sd=true\n",
    "\n",
    "✅ Tasks to Perform in Python:\n",
    "🔹 1. Data Cleaning\n",
    "Load the data using pandas.\n",
    "\n",
    "Convert JoinDate to datetime format (dd-mm-yyyy).\n",
    "\n",
    "Ensure Salary and PerformanceRating are numeric.\n",
    "\n",
    "Check and handle any missing values (if any).\n",
    "\n",
    "🔹 2. Feature Engineering\n",
    "Create a new column Tenure:\n",
    "→ Tenure = 2025 − Year(JoinDate)\n",
    "\n",
    "Create a new column SalaryCategory:\n",
    "\n",
    "Salary < 50,000 → \"Low\"\n",
    "\n",
    "Salary between 50,000–90,000 → \"Medium\"\n",
    "\n",
    "Salary > 90,000 → \"High\"\n",
    "\n",
    "🔹 3. Aggregated Analysis (GroupBy / Pivot Logic)\n",
    "Generate the following summary tables:\n",
    "\n",
    "avg_salary_by_dept: Average Salary per Department\n",
    "\n",
    "gender_count_by_dept: Count of Employees by Gender and Department\n",
    "\n",
    "avg_rating_by_dept: Average Performance Rating per Department\n",
    "\n",
    "low_performers: Employees with Performance Rating ≤ 2\n",
    "\n",
    "🔹 4. Output\n",
    "Save all the above into a single Excel file with multiple sheets using pandas.ExcelWriter.\n",
    "\n",
    "🧪 Bonus (Optional)\n",
    "Create visualizations (bar chart, pie chart) using matplotlib or seaborn.\n",
    "\n",
    "📦 Deliverables\n",
    "Python script or Jupyter notebook (.py or .ipynb)\n",
    "\n",
    "Cleaned and analyzed Excel file (employee_analysis_result.xlsx)\n",
    "\n",
    "(Optional) Screenshots of plots"
   ]
  },
  {
   "cell_type": "code",
   "execution_count": 48,
   "id": "419897e5",
   "metadata": {},
   "outputs": [],
   "source": [
    "df = pd.read_csv('employee_performance.csv')"
   ]
  },
  {
   "cell_type": "code",
   "execution_count": 49,
   "id": "72216c72",
   "metadata": {},
   "outputs": [
    {
     "data": {
      "application/vnd.microsoft.datawrangler.viewer.v0+json": {
       "columns": [
        {
         "name": "index",
         "rawType": "int64",
         "type": "integer"
        },
        {
         "name": "EmployeeID",
         "rawType": "object",
         "type": "string"
        },
        {
         "name": " Name             ",
         "rawType": "object",
         "type": "string"
        },
        {
         "name": " Gender",
         "rawType": "object",
         "type": "string"
        },
        {
         "name": " Department",
         "rawType": "object",
         "type": "string"
        },
        {
         "name": " Salary   ",
         "rawType": "float64",
         "type": "float"
        },
        {
         "name": " JoinDate  ",
         "rawType": "object",
         "type": "string"
        },
        {
         "name": " PerformanceRating",
         "rawType": "int64",
         "type": "integer"
        }
       ],
       "ref": "a6b9a06e-51d2-4adb-97c5-ec6d5487f9fd",
       "rows": [
        [
         "0",
         "E001      ",
         " Dr. Lisa Rogers  ",
         " Male  ",
         " Marketing ",
         "108988.18",
         " 13-11-2021",
         "4"
        ],
        [
         "1",
         "E002      ",
         " Nichole Peterson ",
         " Female",
         " Finance   ",
         "31002.41",
         " 02-07-2015",
         "5"
        ],
        [
         "2",
         "E003      ",
         " Paul Blair       ",
         " Female",
         " Sales     ",
         "73663.33",
         " 04-05-2023",
         "1"
        ],
        [
         "3",
         "E004      ",
         " Michelle Thomas  ",
         " Other ",
         " Marketing ",
         "84044.55",
         " 18-11-2019",
         "1"
        ],
        [
         "4",
         "E005      ",
         " Jessica Berg     ",
         " Female",
         " Marketing ",
         "92527.68",
         " 30-11-2019",
         "3"
        ]
       ],
       "shape": {
        "columns": 7,
        "rows": 5
       }
      },
      "text/html": [
       "<div>\n",
       "<style scoped>\n",
       "    .dataframe tbody tr th:only-of-type {\n",
       "        vertical-align: middle;\n",
       "    }\n",
       "\n",
       "    .dataframe tbody tr th {\n",
       "        vertical-align: top;\n",
       "    }\n",
       "\n",
       "    .dataframe thead th {\n",
       "        text-align: right;\n",
       "    }\n",
       "</style>\n",
       "<table border=\"1\" class=\"dataframe\">\n",
       "  <thead>\n",
       "    <tr style=\"text-align: right;\">\n",
       "      <th></th>\n",
       "      <th>EmployeeID</th>\n",
       "      <th>Name</th>\n",
       "      <th>Gender</th>\n",
       "      <th>Department</th>\n",
       "      <th>Salary</th>\n",
       "      <th>JoinDate</th>\n",
       "      <th>PerformanceRating</th>\n",
       "    </tr>\n",
       "  </thead>\n",
       "  <tbody>\n",
       "    <tr>\n",
       "      <th>0</th>\n",
       "      <td>E001</td>\n",
       "      <td>Dr. Lisa Rogers</td>\n",
       "      <td>Male</td>\n",
       "      <td>Marketing</td>\n",
       "      <td>108988.18</td>\n",
       "      <td>13-11-2021</td>\n",
       "      <td>4</td>\n",
       "    </tr>\n",
       "    <tr>\n",
       "      <th>1</th>\n",
       "      <td>E002</td>\n",
       "      <td>Nichole Peterson</td>\n",
       "      <td>Female</td>\n",
       "      <td>Finance</td>\n",
       "      <td>31002.41</td>\n",
       "      <td>02-07-2015</td>\n",
       "      <td>5</td>\n",
       "    </tr>\n",
       "    <tr>\n",
       "      <th>2</th>\n",
       "      <td>E003</td>\n",
       "      <td>Paul Blair</td>\n",
       "      <td>Female</td>\n",
       "      <td>Sales</td>\n",
       "      <td>73663.33</td>\n",
       "      <td>04-05-2023</td>\n",
       "      <td>1</td>\n",
       "    </tr>\n",
       "    <tr>\n",
       "      <th>3</th>\n",
       "      <td>E004</td>\n",
       "      <td>Michelle Thomas</td>\n",
       "      <td>Other</td>\n",
       "      <td>Marketing</td>\n",
       "      <td>84044.55</td>\n",
       "      <td>18-11-2019</td>\n",
       "      <td>1</td>\n",
       "    </tr>\n",
       "    <tr>\n",
       "      <th>4</th>\n",
       "      <td>E005</td>\n",
       "      <td>Jessica Berg</td>\n",
       "      <td>Female</td>\n",
       "      <td>Marketing</td>\n",
       "      <td>92527.68</td>\n",
       "      <td>30-11-2019</td>\n",
       "      <td>3</td>\n",
       "    </tr>\n",
       "  </tbody>\n",
       "</table>\n",
       "</div>"
      ],
      "text/plain": [
       "   EmployeeID   Name                Gender   Department   Salary     \\\n",
       "0  E001         Dr. Lisa Rogers     Male     Marketing    108988.18   \n",
       "1  E002         Nichole Peterson    Female   Finance       31002.41   \n",
       "2  E003         Paul Blair          Female   Sales         73663.33   \n",
       "3  E004         Michelle Thomas     Other    Marketing     84044.55   \n",
       "4  E005         Jessica Berg        Female   Marketing     92527.68   \n",
       "\n",
       "    JoinDate     PerformanceRating  \n",
       "0   13-11-2021                   4  \n",
       "1   02-07-2015                   5  \n",
       "2   04-05-2023                   1  \n",
       "3   18-11-2019                   1  \n",
       "4   30-11-2019                   3  "
      ]
     },
     "execution_count": 49,
     "metadata": {},
     "output_type": "execute_result"
    }
   ],
   "source": [
    "df.head()"
   ]
  },
  {
   "cell_type": "code",
   "execution_count": 50,
   "id": "d62820b4",
   "metadata": {},
   "outputs": [],
   "source": [
    "#checking some requirenment satisfieed\n",
    "#Stripping extra-spaces from columns name\n",
    "df.columns = [x.strip() for x in df.columns]\n"
   ]
  },
  {
   "cell_type": "code",
   "execution_count": 51,
   "id": "0461f3c1",
   "metadata": {},
   "outputs": [],
   "source": [
    "# so datetime is not in format because there is leading space so we need to strip the space\n",
    "df['JoinDate'] = df['JoinDate'].apply(lambda x:x.strip())"
   ]
  },
  {
   "cell_type": "code",
   "execution_count": 52,
   "id": "407f1ea7",
   "metadata": {},
   "outputs": [
    {
     "name": "stdout",
     "output_type": "stream",
     "text": [
      "JoinDate\n",
      "True    50\n",
      "Name: count, dtype: int64\n"
     ]
    }
   ],
   "source": [
    "def is_correct_fmt(date,fmt=\"%d-%m-%Y\"):\n",
    "    \n",
    "    try:\n",
    "        datetime.strptime(date,fmt)\n",
    "        return True\n",
    "    except ValueError as e:\n",
    "        print(e)\n",
    "        return False\n",
    "\n",
    "is_date_formatted = df['JoinDate'].apply(is_correct_fmt)\n",
    "\n",
    "print(is_date_formatted.value_counts()) # all 50 value in correct-date format"
   ]
  },
  {
   "cell_type": "code",
   "execution_count": 53,
   "id": "710cba7a",
   "metadata": {},
   "outputs": [
    {
     "name": "stdout",
     "output_type": "stream",
     "text": [
      "<class 'pandas.core.series.Series'>\n",
      "RangeIndex: 50 entries, 0 to 49\n",
      "Series name: Salary\n",
      "Non-Null Count  Dtype  \n",
      "--------------  -----  \n",
      "50 non-null     float64\n",
      "dtypes: float64(1)\n",
      "memory usage: 532.0 bytes\n",
      "float64\n",
      "type of elements of perfomance-rating:  int64\n"
     ]
    }
   ],
   "source": [
    "# Ensure Salary and PerformanceRating are numeric.\n",
    "df['Salary'].info()\n",
    "print(df['Salary'].dtypes)\n",
    "# yes-its of dtype of float\n",
    "print(\"type of elements of perfomance-rating: \",df['PerformanceRating'].dtypes)"
   ]
  },
  {
   "cell_type": "code",
   "execution_count": 54,
   "id": "522f3e94",
   "metadata": {},
   "outputs": [
    {
     "data": {
      "application/vnd.microsoft.datawrangler.viewer.v0+json": {
       "columns": [
        {
         "name": "index",
         "rawType": "object",
         "type": "string"
        },
        {
         "name": "0",
         "rawType": "int64",
         "type": "integer"
        }
       ],
       "ref": "fca1bdf9-8517-4f31-8478-91b6afd3ef20",
       "rows": [
        [
         "EmployeeID",
         "0"
        ],
        [
         "Name",
         "0"
        ],
        [
         "Gender",
         "0"
        ],
        [
         "Department",
         "0"
        ],
        [
         "Salary",
         "0"
        ],
        [
         "JoinDate",
         "0"
        ],
        [
         "PerformanceRating",
         "0"
        ]
       ],
       "shape": {
        "columns": 1,
        "rows": 7
       }
      },
      "text/plain": [
       "EmployeeID           0\n",
       "Name                 0\n",
       "Gender               0\n",
       "Department           0\n",
       "Salary               0\n",
       "JoinDate             0\n",
       "PerformanceRating    0\n",
       "dtype: int64"
      ]
     },
     "execution_count": 54,
     "metadata": {},
     "output_type": "execute_result"
    }
   ],
   "source": [
    "# finding and handling any missing values\n",
    "df.isna().sum() #no-missing values there "
   ]
  },
  {
   "cell_type": "code",
   "execution_count": 55,
   "id": "632d022a",
   "metadata": {},
   "outputs": [
    {
     "name": "stdout",
     "output_type": "stream",
     "text": [
      "[2021, 2015, 2023, 2019, 2019, 2017, 2015, 2018, 2023, 2017, 2018, 2022, 2022, 2023, 2023, 2019, 2021, 2019, 2021, 2016, 2017, 2019, 2022, 2022, 2015, 2018, 2017, 2017, 2016, 2022, 2020, 2021, 2022, 2021, 2020, 2022, 2022, 2021, 2018, 2021, 2019, 2020, 2018, 2021, 2017, 2022, 2020, 2022, 2022, 2018]\n"
     ]
    }
   ],
   "source": [
    "## creating a new columns Tenure 2025 - Year\n",
    "year_col = [datetime.strptime(date,\"%d-%m-%Y\").year for date in df['JoinDate']]\n",
    "print(year_col)\n",
    "df['Tenure'] = [2025 - year for year in year_col]"
   ]
  },
  {
   "cell_type": "code",
   "execution_count": 56,
   "id": "ae4f5d35",
   "metadata": {},
   "outputs": [
    {
     "data": {
      "application/vnd.microsoft.datawrangler.viewer.v0+json": {
       "columns": [
        {
         "name": "index",
         "rawType": "int64",
         "type": "integer"
        },
        {
         "name": "EmployeeID",
         "rawType": "object",
         "type": "string"
        },
        {
         "name": "Name",
         "rawType": "object",
         "type": "string"
        },
        {
         "name": "Gender",
         "rawType": "object",
         "type": "string"
        },
        {
         "name": "Department",
         "rawType": "object",
         "type": "string"
        },
        {
         "name": "Salary",
         "rawType": "float64",
         "type": "float"
        },
        {
         "name": "JoinDate",
         "rawType": "object",
         "type": "string"
        },
        {
         "name": "PerformanceRating",
         "rawType": "int64",
         "type": "integer"
        },
        {
         "name": "Tenure",
         "rawType": "int64",
         "type": "integer"
        }
       ],
       "ref": "af3c0eee-a7b6-4a5e-a4c1-c7ddb7c7c409",
       "rows": [
        [
         "0",
         "E001      ",
         " Dr. Lisa Rogers  ",
         " Male  ",
         " Marketing ",
         "108988.18",
         "13-11-2021",
         "4",
         "4"
        ],
        [
         "1",
         "E002      ",
         " Nichole Peterson ",
         " Female",
         " Finance   ",
         "31002.41",
         "02-07-2015",
         "5",
         "10"
        ],
        [
         "2",
         "E003      ",
         " Paul Blair       ",
         " Female",
         " Sales     ",
         "73663.33",
         "04-05-2023",
         "1",
         "2"
        ],
        [
         "3",
         "E004      ",
         " Michelle Thomas  ",
         " Other ",
         " Marketing ",
         "84044.55",
         "18-11-2019",
         "1",
         "6"
        ],
        [
         "4",
         "E005      ",
         " Jessica Berg     ",
         " Female",
         " Marketing ",
         "92527.68",
         "30-11-2019",
         "3",
         "6"
        ],
        [
         "5",
         "E006      ",
         " Hannah Reed      ",
         " Male  ",
         " IT        ",
         "95398.62",
         "07-08-2017",
         "5",
         "8"
        ],
        [
         "6",
         "E007      ",
         " Lisa Allen       ",
         " Male  ",
         " IT        ",
         "66718.87",
         "28-09-2015",
         "5",
         "10"
        ],
        [
         "7",
         "E008      ",
         " Crystal Harper   ",
         " Female",
         " HR        ",
         "109894.5",
         "19-02-2018",
         "4",
         "7"
        ],
        [
         "8",
         "E009      ",
         " Sharon Anthony   ",
         " Male  ",
         " Finance   ",
         "31208.47",
         "18-02-2023",
         "3",
         "2"
        ],
        [
         "9",
         "E010      ",
         " Jake Martinez    ",
         " Male  ",
         " Marketing ",
         "56227.01",
         "15-07-2017",
         "5",
         "8"
        ]
       ],
       "shape": {
        "columns": 8,
        "rows": 10
       }
      },
      "text/html": [
       "<div>\n",
       "<style scoped>\n",
       "    .dataframe tbody tr th:only-of-type {\n",
       "        vertical-align: middle;\n",
       "    }\n",
       "\n",
       "    .dataframe tbody tr th {\n",
       "        vertical-align: top;\n",
       "    }\n",
       "\n",
       "    .dataframe thead th {\n",
       "        text-align: right;\n",
       "    }\n",
       "</style>\n",
       "<table border=\"1\" class=\"dataframe\">\n",
       "  <thead>\n",
       "    <tr style=\"text-align: right;\">\n",
       "      <th></th>\n",
       "      <th>EmployeeID</th>\n",
       "      <th>Name</th>\n",
       "      <th>Gender</th>\n",
       "      <th>Department</th>\n",
       "      <th>Salary</th>\n",
       "      <th>JoinDate</th>\n",
       "      <th>PerformanceRating</th>\n",
       "      <th>Tenure</th>\n",
       "    </tr>\n",
       "  </thead>\n",
       "  <tbody>\n",
       "    <tr>\n",
       "      <th>0</th>\n",
       "      <td>E001</td>\n",
       "      <td>Dr. Lisa Rogers</td>\n",
       "      <td>Male</td>\n",
       "      <td>Marketing</td>\n",
       "      <td>108988.18</td>\n",
       "      <td>13-11-2021</td>\n",
       "      <td>4</td>\n",
       "      <td>4</td>\n",
       "    </tr>\n",
       "    <tr>\n",
       "      <th>1</th>\n",
       "      <td>E002</td>\n",
       "      <td>Nichole Peterson</td>\n",
       "      <td>Female</td>\n",
       "      <td>Finance</td>\n",
       "      <td>31002.41</td>\n",
       "      <td>02-07-2015</td>\n",
       "      <td>5</td>\n",
       "      <td>10</td>\n",
       "    </tr>\n",
       "    <tr>\n",
       "      <th>2</th>\n",
       "      <td>E003</td>\n",
       "      <td>Paul Blair</td>\n",
       "      <td>Female</td>\n",
       "      <td>Sales</td>\n",
       "      <td>73663.33</td>\n",
       "      <td>04-05-2023</td>\n",
       "      <td>1</td>\n",
       "      <td>2</td>\n",
       "    </tr>\n",
       "    <tr>\n",
       "      <th>3</th>\n",
       "      <td>E004</td>\n",
       "      <td>Michelle Thomas</td>\n",
       "      <td>Other</td>\n",
       "      <td>Marketing</td>\n",
       "      <td>84044.55</td>\n",
       "      <td>18-11-2019</td>\n",
       "      <td>1</td>\n",
       "      <td>6</td>\n",
       "    </tr>\n",
       "    <tr>\n",
       "      <th>4</th>\n",
       "      <td>E005</td>\n",
       "      <td>Jessica Berg</td>\n",
       "      <td>Female</td>\n",
       "      <td>Marketing</td>\n",
       "      <td>92527.68</td>\n",
       "      <td>30-11-2019</td>\n",
       "      <td>3</td>\n",
       "      <td>6</td>\n",
       "    </tr>\n",
       "    <tr>\n",
       "      <th>5</th>\n",
       "      <td>E006</td>\n",
       "      <td>Hannah Reed</td>\n",
       "      <td>Male</td>\n",
       "      <td>IT</td>\n",
       "      <td>95398.62</td>\n",
       "      <td>07-08-2017</td>\n",
       "      <td>5</td>\n",
       "      <td>8</td>\n",
       "    </tr>\n",
       "    <tr>\n",
       "      <th>6</th>\n",
       "      <td>E007</td>\n",
       "      <td>Lisa Allen</td>\n",
       "      <td>Male</td>\n",
       "      <td>IT</td>\n",
       "      <td>66718.87</td>\n",
       "      <td>28-09-2015</td>\n",
       "      <td>5</td>\n",
       "      <td>10</td>\n",
       "    </tr>\n",
       "    <tr>\n",
       "      <th>7</th>\n",
       "      <td>E008</td>\n",
       "      <td>Crystal Harper</td>\n",
       "      <td>Female</td>\n",
       "      <td>HR</td>\n",
       "      <td>109894.50</td>\n",
       "      <td>19-02-2018</td>\n",
       "      <td>4</td>\n",
       "      <td>7</td>\n",
       "    </tr>\n",
       "    <tr>\n",
       "      <th>8</th>\n",
       "      <td>E009</td>\n",
       "      <td>Sharon Anthony</td>\n",
       "      <td>Male</td>\n",
       "      <td>Finance</td>\n",
       "      <td>31208.47</td>\n",
       "      <td>18-02-2023</td>\n",
       "      <td>3</td>\n",
       "      <td>2</td>\n",
       "    </tr>\n",
       "    <tr>\n",
       "      <th>9</th>\n",
       "      <td>E010</td>\n",
       "      <td>Jake Martinez</td>\n",
       "      <td>Male</td>\n",
       "      <td>Marketing</td>\n",
       "      <td>56227.01</td>\n",
       "      <td>15-07-2017</td>\n",
       "      <td>5</td>\n",
       "      <td>8</td>\n",
       "    </tr>\n",
       "  </tbody>\n",
       "</table>\n",
       "</div>"
      ],
      "text/plain": [
       "   EmployeeID                Name   Gender   Department     Salary  \\\n",
       "0  E001         Dr. Lisa Rogers     Male     Marketing   108988.18   \n",
       "1  E002         Nichole Peterson    Female   Finance      31002.41   \n",
       "2  E003         Paul Blair          Female   Sales        73663.33   \n",
       "3  E004         Michelle Thomas     Other    Marketing    84044.55   \n",
       "4  E005         Jessica Berg        Female   Marketing    92527.68   \n",
       "5  E006         Hannah Reed         Male     IT           95398.62   \n",
       "6  E007         Lisa Allen          Male     IT           66718.87   \n",
       "7  E008         Crystal Harper      Female   HR          109894.50   \n",
       "8  E009         Sharon Anthony      Male     Finance      31208.47   \n",
       "9  E010         Jake Martinez       Male     Marketing    56227.01   \n",
       "\n",
       "     JoinDate  PerformanceRating  Tenure  \n",
       "0  13-11-2021                  4       4  \n",
       "1  02-07-2015                  5      10  \n",
       "2  04-05-2023                  1       2  \n",
       "3  18-11-2019                  1       6  \n",
       "4  30-11-2019                  3       6  \n",
       "5  07-08-2017                  5       8  \n",
       "6  28-09-2015                  5      10  \n",
       "7  19-02-2018                  4       7  \n",
       "8  18-02-2023                  3       2  \n",
       "9  15-07-2017                  5       8  "
      ]
     },
     "execution_count": 56,
     "metadata": {},
     "output_type": "execute_result"
    }
   ],
   "source": [
    "df.head(10)"
   ]
  },
  {
   "cell_type": "code",
   "execution_count": 57,
   "id": "78b3d6f9",
   "metadata": {},
   "outputs": [
    {
     "name": "stdout",
     "output_type": "stream",
     "text": [
      "JoinDate\n",
      "True    50\n",
      "Name: count, dtype: int64\n",
      "<class 'pandas.core.series.Series'>\n",
      "RangeIndex: 50 entries, 0 to 49\n",
      "Series name: Salary\n",
      "Non-Null Count  Dtype  \n",
      "--------------  -----  \n",
      "50 non-null     float64\n",
      "dtypes: float64(1)\n",
      "memory usage: 532.0 bytes\n",
      "float64\n",
      "type of elements of perfomance-rating:  int64\n",
      "[2021, 2015, 2023, 2019, 2019, 2017, 2015, 2018, 2023, 2017, 2018, 2022, 2022, 2023, 2023, 2019, 2021, 2019, 2021, 2016, 2017, 2019, 2022, 2022, 2015, 2018, 2017, 2017, 2016, 2022, 2020, 2021, 2022, 2021, 2020, 2022, 2022, 2021, 2018, 2021, 2019, 2020, 2018, 2021, 2017, 2022, 2020, 2022, 2022, 2018]\n"
     ]
    }
   ],
   "source": [
    "\n",
    "# Create a new column SalaryCategory:\n",
    "from datetime import datetime\n",
    "df = pd.read_csv('employee_performance.csv')\n",
    "df.head()\n",
    "#checking some requirenment satisfieed\n",
    "#Stripping extra-spaces from columns name\n",
    "df.columns = [x.strip() for x in df.columns]\n",
    "\n",
    "# so datetime is not in format because there is leading space so we need to strip the space\n",
    "df['JoinDate'] = df['JoinDate'].apply(lambda x:x.strip())\n",
    "def is_correct_fmt(date,fmt=\"%d-%m-%Y\"):\n",
    "    \n",
    "    try:\n",
    "        datetime.strptime(date,fmt)\n",
    "        return True\n",
    "    except ValueError as e:\n",
    "        print(e)\n",
    "        return False\n",
    "\n",
    "is_date_formatted = df['JoinDate'].apply(is_correct_fmt)\n",
    "\n",
    "print(is_date_formatted.value_counts()) # all 50 value in correct-date format\n",
    "# Ensure Salary and PerformanceRating are numeric.\n",
    "df['Salary'].info()\n",
    "print(df['Salary'].dtypes)\n",
    "# yes-its of dtype of float\n",
    "print(\"type of elements of perfomance-rating: \",df['PerformanceRating'].dtypes)\n",
    "# finding and handling any missing values\n",
    "df.isna().sum() #no-missing values there \n",
    "## creating a new columns Tenure 2025 - Year\n",
    "year_col = [datetime.strptime(date,\"%d-%m-%Y\").year for date in df['JoinDate']]\n",
    "print(year_col)\n",
    "df['Tenure'] = [2025 - year for year in year_col]\n",
    "df.head(10)\n",
    "# creating new columns SalaryCategory\n",
    "\"\"\"\n",
    "pd.cut()\n",
    "Bin values into discrete intervals.\n",
    "Use cut when you need to segment and sort data values into bins. This function is also useful for going from a continuous variable to a categorical variable. For example, cut could convert ages to groups of age ranges. Supports binning into an equal number of bins, or a pre-specified array of bins\n",
    "\"\"\"\n",
    "df['SalaryCategory'] = pd.cut(df['Salary'],bins=[0,50000,90000,float('inf')],labels=['Low','Medium','High'])"
   ]
  },
  {
   "cell_type": "code",
   "execution_count": 58,
   "id": "c62cfd39",
   "metadata": {},
   "outputs": [
    {
     "data": {
      "application/vnd.microsoft.datawrangler.viewer.v0+json": {
       "columns": [
        {
         "name": "index",
         "rawType": "int64",
         "type": "integer"
        },
        {
         "name": "EmployeeID",
         "rawType": "object",
         "type": "string"
        },
        {
         "name": "Name",
         "rawType": "object",
         "type": "string"
        },
        {
         "name": "Gender",
         "rawType": "object",
         "type": "string"
        },
        {
         "name": "Department",
         "rawType": "object",
         "type": "string"
        },
        {
         "name": "Salary",
         "rawType": "float64",
         "type": "float"
        },
        {
         "name": "JoinDate",
         "rawType": "object",
         "type": "string"
        },
        {
         "name": "PerformanceRating",
         "rawType": "int64",
         "type": "integer"
        },
        {
         "name": "Tenure",
         "rawType": "int64",
         "type": "integer"
        },
        {
         "name": "SalaryCategory",
         "rawType": "category",
         "type": "unknown"
        }
       ],
       "ref": "aee74392-b55a-4da7-8747-79b68111634e",
       "rows": [
        [
         "0",
         "E001      ",
         " Dr. Lisa Rogers  ",
         " Male  ",
         " Marketing ",
         "108988.18",
         "13-11-2021",
         "4",
         "4",
         "High"
        ],
        [
         "1",
         "E002      ",
         " Nichole Peterson ",
         " Female",
         " Finance   ",
         "31002.41",
         "02-07-2015",
         "5",
         "10",
         "Low"
        ],
        [
         "2",
         "E003      ",
         " Paul Blair       ",
         " Female",
         " Sales     ",
         "73663.33",
         "04-05-2023",
         "1",
         "2",
         "Medium"
        ],
        [
         "3",
         "E004      ",
         " Michelle Thomas  ",
         " Other ",
         " Marketing ",
         "84044.55",
         "18-11-2019",
         "1",
         "6",
         "Medium"
        ],
        [
         "4",
         "E005      ",
         " Jessica Berg     ",
         " Female",
         " Marketing ",
         "92527.68",
         "30-11-2019",
         "3",
         "6",
         "High"
        ],
        [
         "5",
         "E006      ",
         " Hannah Reed      ",
         " Male  ",
         " IT        ",
         "95398.62",
         "07-08-2017",
         "5",
         "8",
         "High"
        ],
        [
         "6",
         "E007      ",
         " Lisa Allen       ",
         " Male  ",
         " IT        ",
         "66718.87",
         "28-09-2015",
         "5",
         "10",
         "Medium"
        ],
        [
         "7",
         "E008      ",
         " Crystal Harper   ",
         " Female",
         " HR        ",
         "109894.5",
         "19-02-2018",
         "4",
         "7",
         "High"
        ],
        [
         "8",
         "E009      ",
         " Sharon Anthony   ",
         " Male  ",
         " Finance   ",
         "31208.47",
         "18-02-2023",
         "3",
         "2",
         "Low"
        ],
        [
         "9",
         "E010      ",
         " Jake Martinez    ",
         " Male  ",
         " Marketing ",
         "56227.01",
         "15-07-2017",
         "5",
         "8",
         "Medium"
        ]
       ],
       "shape": {
        "columns": 9,
        "rows": 10
       }
      },
      "text/html": [
       "<div>\n",
       "<style scoped>\n",
       "    .dataframe tbody tr th:only-of-type {\n",
       "        vertical-align: middle;\n",
       "    }\n",
       "\n",
       "    .dataframe tbody tr th {\n",
       "        vertical-align: top;\n",
       "    }\n",
       "\n",
       "    .dataframe thead th {\n",
       "        text-align: right;\n",
       "    }\n",
       "</style>\n",
       "<table border=\"1\" class=\"dataframe\">\n",
       "  <thead>\n",
       "    <tr style=\"text-align: right;\">\n",
       "      <th></th>\n",
       "      <th>EmployeeID</th>\n",
       "      <th>Name</th>\n",
       "      <th>Gender</th>\n",
       "      <th>Department</th>\n",
       "      <th>Salary</th>\n",
       "      <th>JoinDate</th>\n",
       "      <th>PerformanceRating</th>\n",
       "      <th>Tenure</th>\n",
       "      <th>SalaryCategory</th>\n",
       "    </tr>\n",
       "  </thead>\n",
       "  <tbody>\n",
       "    <tr>\n",
       "      <th>0</th>\n",
       "      <td>E001</td>\n",
       "      <td>Dr. Lisa Rogers</td>\n",
       "      <td>Male</td>\n",
       "      <td>Marketing</td>\n",
       "      <td>108988.18</td>\n",
       "      <td>13-11-2021</td>\n",
       "      <td>4</td>\n",
       "      <td>4</td>\n",
       "      <td>High</td>\n",
       "    </tr>\n",
       "    <tr>\n",
       "      <th>1</th>\n",
       "      <td>E002</td>\n",
       "      <td>Nichole Peterson</td>\n",
       "      <td>Female</td>\n",
       "      <td>Finance</td>\n",
       "      <td>31002.41</td>\n",
       "      <td>02-07-2015</td>\n",
       "      <td>5</td>\n",
       "      <td>10</td>\n",
       "      <td>Low</td>\n",
       "    </tr>\n",
       "    <tr>\n",
       "      <th>2</th>\n",
       "      <td>E003</td>\n",
       "      <td>Paul Blair</td>\n",
       "      <td>Female</td>\n",
       "      <td>Sales</td>\n",
       "      <td>73663.33</td>\n",
       "      <td>04-05-2023</td>\n",
       "      <td>1</td>\n",
       "      <td>2</td>\n",
       "      <td>Medium</td>\n",
       "    </tr>\n",
       "    <tr>\n",
       "      <th>3</th>\n",
       "      <td>E004</td>\n",
       "      <td>Michelle Thomas</td>\n",
       "      <td>Other</td>\n",
       "      <td>Marketing</td>\n",
       "      <td>84044.55</td>\n",
       "      <td>18-11-2019</td>\n",
       "      <td>1</td>\n",
       "      <td>6</td>\n",
       "      <td>Medium</td>\n",
       "    </tr>\n",
       "    <tr>\n",
       "      <th>4</th>\n",
       "      <td>E005</td>\n",
       "      <td>Jessica Berg</td>\n",
       "      <td>Female</td>\n",
       "      <td>Marketing</td>\n",
       "      <td>92527.68</td>\n",
       "      <td>30-11-2019</td>\n",
       "      <td>3</td>\n",
       "      <td>6</td>\n",
       "      <td>High</td>\n",
       "    </tr>\n",
       "    <tr>\n",
       "      <th>5</th>\n",
       "      <td>E006</td>\n",
       "      <td>Hannah Reed</td>\n",
       "      <td>Male</td>\n",
       "      <td>IT</td>\n",
       "      <td>95398.62</td>\n",
       "      <td>07-08-2017</td>\n",
       "      <td>5</td>\n",
       "      <td>8</td>\n",
       "      <td>High</td>\n",
       "    </tr>\n",
       "    <tr>\n",
       "      <th>6</th>\n",
       "      <td>E007</td>\n",
       "      <td>Lisa Allen</td>\n",
       "      <td>Male</td>\n",
       "      <td>IT</td>\n",
       "      <td>66718.87</td>\n",
       "      <td>28-09-2015</td>\n",
       "      <td>5</td>\n",
       "      <td>10</td>\n",
       "      <td>Medium</td>\n",
       "    </tr>\n",
       "    <tr>\n",
       "      <th>7</th>\n",
       "      <td>E008</td>\n",
       "      <td>Crystal Harper</td>\n",
       "      <td>Female</td>\n",
       "      <td>HR</td>\n",
       "      <td>109894.50</td>\n",
       "      <td>19-02-2018</td>\n",
       "      <td>4</td>\n",
       "      <td>7</td>\n",
       "      <td>High</td>\n",
       "    </tr>\n",
       "    <tr>\n",
       "      <th>8</th>\n",
       "      <td>E009</td>\n",
       "      <td>Sharon Anthony</td>\n",
       "      <td>Male</td>\n",
       "      <td>Finance</td>\n",
       "      <td>31208.47</td>\n",
       "      <td>18-02-2023</td>\n",
       "      <td>3</td>\n",
       "      <td>2</td>\n",
       "      <td>Low</td>\n",
       "    </tr>\n",
       "    <tr>\n",
       "      <th>9</th>\n",
       "      <td>E010</td>\n",
       "      <td>Jake Martinez</td>\n",
       "      <td>Male</td>\n",
       "      <td>Marketing</td>\n",
       "      <td>56227.01</td>\n",
       "      <td>15-07-2017</td>\n",
       "      <td>5</td>\n",
       "      <td>8</td>\n",
       "      <td>Medium</td>\n",
       "    </tr>\n",
       "  </tbody>\n",
       "</table>\n",
       "</div>"
      ],
      "text/plain": [
       "   EmployeeID                Name   Gender   Department     Salary  \\\n",
       "0  E001         Dr. Lisa Rogers     Male     Marketing   108988.18   \n",
       "1  E002         Nichole Peterson    Female   Finance      31002.41   \n",
       "2  E003         Paul Blair          Female   Sales        73663.33   \n",
       "3  E004         Michelle Thomas     Other    Marketing    84044.55   \n",
       "4  E005         Jessica Berg        Female   Marketing    92527.68   \n",
       "5  E006         Hannah Reed         Male     IT           95398.62   \n",
       "6  E007         Lisa Allen          Male     IT           66718.87   \n",
       "7  E008         Crystal Harper      Female   HR          109894.50   \n",
       "8  E009         Sharon Anthony      Male     Finance      31208.47   \n",
       "9  E010         Jake Martinez       Male     Marketing    56227.01   \n",
       "\n",
       "     JoinDate  PerformanceRating  Tenure SalaryCategory  \n",
       "0  13-11-2021                  4       4           High  \n",
       "1  02-07-2015                  5      10            Low  \n",
       "2  04-05-2023                  1       2         Medium  \n",
       "3  18-11-2019                  1       6         Medium  \n",
       "4  30-11-2019                  3       6           High  \n",
       "5  07-08-2017                  5       8           High  \n",
       "6  28-09-2015                  5      10         Medium  \n",
       "7  19-02-2018                  4       7           High  \n",
       "8  18-02-2023                  3       2            Low  \n",
       "9  15-07-2017                  5       8         Medium  "
      ]
     },
     "execution_count": 58,
     "metadata": {},
     "output_type": "execute_result"
    }
   ],
   "source": [
    "df.head(10)"
   ]
  },
  {
   "cell_type": "code",
   "execution_count": 59,
   "id": "b5bce2fd",
   "metadata": {},
   "outputs": [],
   "source": [
    "# average of salary per dept\n",
    "avg_sal_per_dept = df.groupby('Department',group_keys=True)['Salary'].mean().round(2)"
   ]
  },
  {
   "cell_type": "code",
   "execution_count": 60,
   "id": "374aa597",
   "metadata": {},
   "outputs": [
    {
     "data": {
      "application/vnd.microsoft.datawrangler.viewer.v0+json": {
       "columns": [
        {
         "name": "Department",
         "rawType": "object",
         "type": "string"
        },
        {
         "name": " Female",
         "rawType": "int64",
         "type": "integer"
        },
        {
         "name": " Male  ",
         "rawType": "int64",
         "type": "integer"
        },
        {
         "name": " Other ",
         "rawType": "int64",
         "type": "integer"
        }
       ],
       "ref": "78b4302e-7fd6-4e91-8bac-323982e9e3a8",
       "rows": [
        [
         " Finance   ",
         "4",
         "6",
         "2"
        ],
        [
         " HR        ",
         "5",
         "1",
         "1"
        ],
        [
         " IT        ",
         "4",
         "2",
         "1"
        ],
        [
         " Marketing ",
         "3",
         "5",
         "4"
        ],
        [
         " Sales     ",
         "7",
         "3",
         "2"
        ]
       ],
       "shape": {
        "columns": 3,
        "rows": 5
       }
      },
      "text/html": [
       "<div>\n",
       "<style scoped>\n",
       "    .dataframe tbody tr th:only-of-type {\n",
       "        vertical-align: middle;\n",
       "    }\n",
       "\n",
       "    .dataframe tbody tr th {\n",
       "        vertical-align: top;\n",
       "    }\n",
       "\n",
       "    .dataframe thead th {\n",
       "        text-align: right;\n",
       "    }\n",
       "</style>\n",
       "<table border=\"1\" class=\"dataframe\">\n",
       "  <thead>\n",
       "    <tr style=\"text-align: right;\">\n",
       "      <th>Gender</th>\n",
       "      <th>Female</th>\n",
       "      <th>Male</th>\n",
       "      <th>Other</th>\n",
       "    </tr>\n",
       "    <tr>\n",
       "      <th>Department</th>\n",
       "      <th></th>\n",
       "      <th></th>\n",
       "      <th></th>\n",
       "    </tr>\n",
       "  </thead>\n",
       "  <tbody>\n",
       "    <tr>\n",
       "      <th>Finance</th>\n",
       "      <td>4</td>\n",
       "      <td>6</td>\n",
       "      <td>2</td>\n",
       "    </tr>\n",
       "    <tr>\n",
       "      <th>HR</th>\n",
       "      <td>5</td>\n",
       "      <td>1</td>\n",
       "      <td>1</td>\n",
       "    </tr>\n",
       "    <tr>\n",
       "      <th>IT</th>\n",
       "      <td>4</td>\n",
       "      <td>2</td>\n",
       "      <td>1</td>\n",
       "    </tr>\n",
       "    <tr>\n",
       "      <th>Marketing</th>\n",
       "      <td>3</td>\n",
       "      <td>5</td>\n",
       "      <td>4</td>\n",
       "    </tr>\n",
       "    <tr>\n",
       "      <th>Sales</th>\n",
       "      <td>7</td>\n",
       "      <td>3</td>\n",
       "      <td>2</td>\n",
       "    </tr>\n",
       "  </tbody>\n",
       "</table>\n",
       "</div>"
      ],
      "text/plain": [
       "Gender      Female  Male    Other \n",
       "Department                        \n",
       "Finance          4       6       2\n",
       "HR               5       1       1\n",
       "IT               4       2       1\n",
       "Marketing        3       5       4\n",
       "Sales            7       3       2"
      ]
     },
     "execution_count": 60,
     "metadata": {},
     "output_type": "execute_result"
    }
   ],
   "source": [
    "# gender count per Dept\n",
    "gender_count_by_dept = pd.crosstab(df['Department'],df['Gender'])\n",
    "gender_count_by_dept"
   ]
  },
  {
   "cell_type": "code",
   "execution_count": 61,
   "id": "97526174",
   "metadata": {},
   "outputs": [],
   "source": [
    "# average performance rating per dept"
   ]
  },
  {
   "cell_type": "code",
   "execution_count": 62,
   "id": "dcf550f7",
   "metadata": {},
   "outputs": [
    {
     "data": {
      "application/vnd.microsoft.datawrangler.viewer.v0+json": {
       "columns": [
        {
         "name": "Department",
         "rawType": "object",
         "type": "string"
        },
        {
         "name": "PerformanceRating",
         "rawType": "float64",
         "type": "float"
        }
       ],
       "ref": "0806c8e4-1e63-4c6f-9031-fbbfc19e3291",
       "rows": [
        [
         " Finance   ",
         "2.42"
        ],
        [
         " HR        ",
         "3.14"
        ],
        [
         " IT        ",
         "3.71"
        ],
        [
         " Marketing ",
         "3.17"
        ],
        [
         " Sales     ",
         "2.92"
        ]
       ],
       "shape": {
        "columns": 1,
        "rows": 5
       }
      },
      "text/plain": [
       "Department\n",
       "Finance       2.42\n",
       "HR            3.14\n",
       "IT            3.71\n",
       "Marketing     3.17\n",
       "Sales         2.92\n",
       "Name: PerformanceRating, dtype: float64"
      ]
     },
     "execution_count": 62,
     "metadata": {},
     "output_type": "execute_result"
    }
   ],
   "source": [
    "performance_rate_per_dept = df.groupby('Department',group_keys=True)['PerformanceRating'].mean().round(2)\n",
    "performance_rate_per_dept"
   ]
  },
  {
   "cell_type": "code",
   "execution_count": 63,
   "id": "36f1d12a",
   "metadata": {},
   "outputs": [],
   "source": [
    "# low-performer Employee\n",
    "low_performer_empId = df[df['PerformanceRating'] <=2]['EmployeeID'].reset_index()"
   ]
  },
  {
   "cell_type": "code",
   "execution_count": 64,
   "id": "25f49cd1",
   "metadata": {},
   "outputs": [
    {
     "data": {
      "application/vnd.microsoft.datawrangler.viewer.v0+json": {
       "columns": [
        {
         "name": "index",
         "rawType": "int64",
         "type": "integer"
        },
        {
         "name": "index",
         "rawType": "int64",
         "type": "integer"
        },
        {
         "name": "EmployeeID",
         "rawType": "object",
         "type": "string"
        }
       ],
       "ref": "743c9ffe-3b79-4f30-b3a3-9e4be0bbdb96",
       "rows": [
        [
         "0",
         "2",
         "E003      "
        ],
        [
         "1",
         "3",
         "E004      "
        ],
        [
         "2",
         "12",
         "E013      "
        ],
        [
         "3",
         "13",
         "E014      "
        ],
        [
         "4",
         "14",
         "E015      "
        ],
        [
         "5",
         "17",
         "E018      "
        ],
        [
         "6",
         "24",
         "E025      "
        ],
        [
         "7",
         "26",
         "E027      "
        ],
        [
         "8",
         "27",
         "E028      "
        ],
        [
         "9",
         "28",
         "E029      "
        ],
        [
         "10",
         "29",
         "E030      "
        ],
        [
         "11",
         "31",
         "E032      "
        ],
        [
         "12",
         "35",
         "E036      "
        ],
        [
         "13",
         "37",
         "E038      "
        ],
        [
         "14",
         "38",
         "E039      "
        ],
        [
         "15",
         "40",
         "E041      "
        ],
        [
         "16",
         "41",
         "E042      "
        ],
        [
         "17",
         "46",
         "E047      "
        ],
        [
         "18",
         "47",
         "E048      "
        ],
        [
         "19",
         "48",
         "E049      "
        ]
       ],
       "shape": {
        "columns": 2,
        "rows": 20
       }
      },
      "text/html": [
       "<div>\n",
       "<style scoped>\n",
       "    .dataframe tbody tr th:only-of-type {\n",
       "        vertical-align: middle;\n",
       "    }\n",
       "\n",
       "    .dataframe tbody tr th {\n",
       "        vertical-align: top;\n",
       "    }\n",
       "\n",
       "    .dataframe thead th {\n",
       "        text-align: right;\n",
       "    }\n",
       "</style>\n",
       "<table border=\"1\" class=\"dataframe\">\n",
       "  <thead>\n",
       "    <tr style=\"text-align: right;\">\n",
       "      <th></th>\n",
       "      <th>index</th>\n",
       "      <th>EmployeeID</th>\n",
       "    </tr>\n",
       "  </thead>\n",
       "  <tbody>\n",
       "    <tr>\n",
       "      <th>0</th>\n",
       "      <td>2</td>\n",
       "      <td>E003</td>\n",
       "    </tr>\n",
       "    <tr>\n",
       "      <th>1</th>\n",
       "      <td>3</td>\n",
       "      <td>E004</td>\n",
       "    </tr>\n",
       "    <tr>\n",
       "      <th>2</th>\n",
       "      <td>12</td>\n",
       "      <td>E013</td>\n",
       "    </tr>\n",
       "    <tr>\n",
       "      <th>3</th>\n",
       "      <td>13</td>\n",
       "      <td>E014</td>\n",
       "    </tr>\n",
       "    <tr>\n",
       "      <th>4</th>\n",
       "      <td>14</td>\n",
       "      <td>E015</td>\n",
       "    </tr>\n",
       "    <tr>\n",
       "      <th>5</th>\n",
       "      <td>17</td>\n",
       "      <td>E018</td>\n",
       "    </tr>\n",
       "    <tr>\n",
       "      <th>6</th>\n",
       "      <td>24</td>\n",
       "      <td>E025</td>\n",
       "    </tr>\n",
       "    <tr>\n",
       "      <th>7</th>\n",
       "      <td>26</td>\n",
       "      <td>E027</td>\n",
       "    </tr>\n",
       "    <tr>\n",
       "      <th>8</th>\n",
       "      <td>27</td>\n",
       "      <td>E028</td>\n",
       "    </tr>\n",
       "    <tr>\n",
       "      <th>9</th>\n",
       "      <td>28</td>\n",
       "      <td>E029</td>\n",
       "    </tr>\n",
       "    <tr>\n",
       "      <th>10</th>\n",
       "      <td>29</td>\n",
       "      <td>E030</td>\n",
       "    </tr>\n",
       "    <tr>\n",
       "      <th>11</th>\n",
       "      <td>31</td>\n",
       "      <td>E032</td>\n",
       "    </tr>\n",
       "    <tr>\n",
       "      <th>12</th>\n",
       "      <td>35</td>\n",
       "      <td>E036</td>\n",
       "    </tr>\n",
       "    <tr>\n",
       "      <th>13</th>\n",
       "      <td>37</td>\n",
       "      <td>E038</td>\n",
       "    </tr>\n",
       "    <tr>\n",
       "      <th>14</th>\n",
       "      <td>38</td>\n",
       "      <td>E039</td>\n",
       "    </tr>\n",
       "    <tr>\n",
       "      <th>15</th>\n",
       "      <td>40</td>\n",
       "      <td>E041</td>\n",
       "    </tr>\n",
       "    <tr>\n",
       "      <th>16</th>\n",
       "      <td>41</td>\n",
       "      <td>E042</td>\n",
       "    </tr>\n",
       "    <tr>\n",
       "      <th>17</th>\n",
       "      <td>46</td>\n",
       "      <td>E047</td>\n",
       "    </tr>\n",
       "    <tr>\n",
       "      <th>18</th>\n",
       "      <td>47</td>\n",
       "      <td>E048</td>\n",
       "    </tr>\n",
       "    <tr>\n",
       "      <th>19</th>\n",
       "      <td>48</td>\n",
       "      <td>E049</td>\n",
       "    </tr>\n",
       "  </tbody>\n",
       "</table>\n",
       "</div>"
      ],
      "text/plain": [
       "    index  EmployeeID\n",
       "0       2  E003      \n",
       "1       3  E004      \n",
       "2      12  E013      \n",
       "3      13  E014      \n",
       "4      14  E015      \n",
       "5      17  E018      \n",
       "6      24  E025      \n",
       "7      26  E027      \n",
       "8      27  E028      \n",
       "9      28  E029      \n",
       "10     29  E030      \n",
       "11     31  E032      \n",
       "12     35  E036      \n",
       "13     37  E038      \n",
       "14     38  E039      \n",
       "15     40  E041      \n",
       "16     41  E042      \n",
       "17     46  E047      \n",
       "18     47  E048      \n",
       "19     48  E049      "
      ]
     },
     "execution_count": 64,
     "metadata": {},
     "output_type": "execute_result"
    }
   ],
   "source": [
    "low_performer_empId"
   ]
  },
  {
   "cell_type": "code",
   "execution_count": 69,
   "id": "1c434256",
   "metadata": {},
   "outputs": [
    {
     "name": "stdout",
     "output_type": "stream",
     "text": [
      "Collecting xlsxwriter\n",
      "  Downloading xlsxwriter-3.2.5-py3-none-any.whl.metadata (2.7 kB)\n",
      "Downloading xlsxwriter-3.2.5-py3-none-any.whl (172 kB)\n",
      "Installing collected packages: xlsxwriter\n",
      "Successfully installed xlsxwriter-3.2.5\n"
     ]
    }
   ],
   "source": [
    "! pip install xlsxwriter"
   ]
  },
  {
   "cell_type": "code",
   "execution_count": 71,
   "id": "0583f090",
   "metadata": {},
   "outputs": [
    {
     "name": "stderr",
     "output_type": "stream",
     "text": [
      "/var/folders/s3/ryhy831n0lqcwrghx69z28xw0000gn/T/ipykernel_10281/4278684210.py:4: FutureWarning: Starting with pandas version 3.0 all arguments of to_excel except for the argument 'excel_writer' will be keyword-only.\n",
      "  df.to_excel(exl_write,'Main Dataset Cleaned')\n",
      "/var/folders/s3/ryhy831n0lqcwrghx69z28xw0000gn/T/ipykernel_10281/4278684210.py:5: FutureWarning: Starting with pandas version 3.0 all arguments of to_excel except for the argument 'excel_writer' will be keyword-only.\n",
      "  avg_sal_per_dept.to_excel(exl_write,'avg_salary_dept')\n",
      "/var/folders/s3/ryhy831n0lqcwrghx69z28xw0000gn/T/ipykernel_10281/4278684210.py:6: FutureWarning: Starting with pandas version 3.0 all arguments of to_excel except for the argument 'excel_writer' will be keyword-only.\n",
      "  gender_count_by_dept.to_excel(exl_write,'gender_count_per_dept')\n",
      "/var/folders/s3/ryhy831n0lqcwrghx69z28xw0000gn/T/ipykernel_10281/4278684210.py:7: FutureWarning: Starting with pandas version 3.0 all arguments of to_excel except for the argument 'excel_writer' will be keyword-only.\n",
      "  performance_rate_per_dept.to_excel(exl_write,'performance_rate_per_dept')\n",
      "/var/folders/s3/ryhy831n0lqcwrghx69z28xw0000gn/T/ipykernel_10281/4278684210.py:8: FutureWarning: Starting with pandas version 3.0 all arguments of to_excel except for the argument 'excel_writer' will be keyword-only.\n",
      "  performance_rate_per_dept.to_excel(exl_write,'performance_rate_per_dept')\n",
      "/var/folders/s3/ryhy831n0lqcwrghx69z28xw0000gn/T/ipykernel_10281/4278684210.py:9: FutureWarning: Starting with pandas version 3.0 all arguments of to_excel except for the argument 'excel_writer' will be keyword-only.\n",
      "  low_performer_empId.to_excel(exl_write,'low_performing_employee')\n"
     ]
    }
   ],
   "source": [
    "# writting all to excel-sheet\n",
    "\n",
    "with pd.ExcelWriter('OutputCleaned.xlsx',engine='xlsxwriter') as exl_write:\n",
    "    df.to_excel(exl_write,'Main Dataset Cleaned')\n",
    "    avg_sal_per_dept.to_excel(exl_write,'avg_salary_dept')\n",
    "    gender_count_by_dept.to_excel(exl_write,'gender_count_per_dept')\n",
    "    performance_rate_per_dept.to_excel(exl_write,'performance_rate_per_dept')\n",
    "    performance_rate_per_dept.to_excel(exl_write,'performance_rate_per_dept')\n",
    "    low_performer_empId.to_excel(exl_write,'low_performing_employee')"
   ]
  }
 ],
 "metadata": {
  "kernelspec": {
   "display_name": "tensorflow-metal",
   "language": "python",
   "name": "python3"
  },
  "language_info": {
   "codemirror_mode": {
    "name": "ipython",
    "version": 3
   },
   "file_extension": ".py",
   "mimetype": "text/x-python",
   "name": "python",
   "nbconvert_exporter": "python",
   "pygments_lexer": "ipython3",
   "version": "3.12.11"
  }
 },
 "nbformat": 4,
 "nbformat_minor": 5
}
